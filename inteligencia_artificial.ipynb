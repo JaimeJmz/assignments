{
  "nbformat": 4,
  "nbformat_minor": 0,
  "metadata": {
    "colab": {
      "provenance": [],
      "authorship_tag": "ABX9TyMqEHS4zU6g2a1cpUafIkyw",
      "include_colab_link": true
    },
    "kernelspec": {
      "name": "python3",
      "display_name": "Python 3"
    },
    "language_info": {
      "name": "python"
    }
  },
  "cells": [
    {
      "cell_type": "markdown",
      "metadata": {
        "id": "view-in-github",
        "colab_type": "text"
      },
      "source": [
        "<a href=\"https://colab.research.google.com/github/JaimeJmz/assignments/blob/main/inteligencia_artificial.ipynb\" target=\"_parent\"><img src=\"https://colab.research.google.com/assets/colab-badge.svg\" alt=\"Open In Colab\"/></a>"
      ]
    },
    {
      "cell_type": "markdown",
      "source": [
        "**Jaime Jimenez Suarez**\n",
        "\n",
        "**ID=2077627**\n",
        "\n",
        "**thursday,N3,IA**"
      ],
      "metadata": {
        "id": "8TllG0_yQt5X"
      }
    },
    {
      "cell_type": "markdown",
      "source": [
        "**text  analysis tool**:Create a python program that reads a text file and performs various analyses on its content.the program should:count the number of words,sentences, and paragraphs. calculate the avarage word length. identify the most common words and their frequencies.\n"
      ],
      "metadata": {
        "id": "SQVcBLwkcsrY"
      }
    },
    {
      "cell_type": "code",
      "source": [
        "from typing_extensions import Counter\n",
        "from posixpath import split\n",
        "sourceDir=\"/content/ia.txt\"\n",
        "with open(sourceDir,\"r\") as f:\n",
        "  text= f.read()\n",
        "  words= text.split()\n",
        "  print(len(words))\n",
        "  setences= text.split(\".\")\n",
        "  print(len(setences))\n",
        "  paragraphs=text.split(\"\\n\")\n",
        "  print(len(paragraphs))\n",
        "  average=sum(len(words) for words in words) / len(words)\n",
        "  print(average)\n",
        "  frequency=Counter(words)\n",
        "  print( words,frequency)\n",
        "\n",
        "\n",
        "\n",
        "\n",
        "\n"
      ],
      "metadata": {
        "id": "Igb8NEzGs5kL"
      },
      "execution_count": null,
      "outputs": []
    },
    {
      "cell_type": "markdown",
      "source": [
        "**Hangman game**: create a python program that allows a user to play the game of hangman. The program should randomly select a word form a predefined list, and the player must guess letters one at a time until they guess the word correctly or run out of attampts"
      ],
      "metadata": {
        "id": "DpoH83MnPVHq"
      }
    },
    {
      "cell_type": "code",
      "source": [
        "import random\n",
        "\n",
        "sourceDir=\"/content/ia.txt\"\n",
        "with open(sourceDir,\"r\")  as f:\n",
        "  words= f.readlines()\n",
        "  word=random.choice(words).strip()\n",
        "  errors=6\n",
        "  intents=[]\n",
        "  run= True\n",
        "  while run:\n",
        "\n",
        "    for letter in word:\n",
        "      if letter.lower() in intents:\n",
        "        print(letter,end =\"\")\n",
        "      else:\n",
        "        print(\"_\", end =\"\")\n",
        "\n",
        "    print(\"\\n\")\n",
        "\n",
        "    intent= input(f\"Errors left{errors}. next try:\")\n",
        "    intents.append(intent.lower())\n",
        "\n",
        "    if intent.lower() not in word.lower():\n",
        "      errors -= 1\n",
        "      if errors == 0:\n",
        "        print(f\"game over.The word was{word}\")\n",
        "        break\n",
        "\n",
        "      run=False\n",
        "      for letter in word:\n",
        "        if letter.lower() not in intents:\n",
        "          run= True\n",
        "        if run == False:\n",
        "            print(f\"correct word It was {word}\")\n",
        "\n"
      ],
      "metadata": {
        "id": "vYJPgv0MgI3Q"
      },
      "execution_count": null,
      "outputs": []
    },
    {
      "cell_type": "markdown",
      "source": [
        "**Number Guessing Game**: create a program that generates a random number between 1 and 100, and then asks the user to guess the number. the program should provide hints to user if the guessed number us greater or lees than the target number, and keep asking for a new guess until the user guesses correctly."
      ],
      "metadata": {
        "id": "csU5__qDEkYK"
      }
    },
    {
      "cell_type": "code",
      "source": [
        "from pickle import STOP\n",
        "from ast import Break\n",
        "import random\n",
        "intentos= 0\n",
        "print(\"juego de azar\")\n",
        "nombre=input(\"cual es tu nombre?\")\n",
        "x= random.randint(1,100)\n",
        "print(\"hola\" + nombre+ \", bienvenido a mi primer juego...\")\n",
        "while intentos < 3:\n",
        "  intentos= intentos +1\n",
        "  numero= input(\"elige un numero del 1 al 100..\")\n",
        "  numero= int(numero)\n",
        "  if numero > x:\n",
        "    print(\"tu numero es mas bajo\")\n",
        "  if numero < x:\n",
        "    print( \" tu numero es mas alto\")\n",
        "  if numero == x:\n",
        "    print(\"la respuesta es correcta\")\n",
        "    intentos= 10\n",
        "  if intentos == 3:\n",
        "    print(\"te acabaste tus intentos\")\n"
      ],
      "metadata": {
        "id": "sgNdeN5XFgPX"
      },
      "execution_count": null,
      "outputs": []
    }
  ]
}