{
  "nbformat": 4,
  "nbformat_minor": 0,
  "metadata": {
    "colab": {
      "provenance": [],
      "authorship_tag": "ABX9TyPBQ1qWXeYFu6fdH9o6FZPH",
      "include_colab_link": true
    },
    "kernelspec": {
      "name": "python3",
      "display_name": "Python 3"
    },
    "language_info": {
      "name": "python"
    }
  },
  "cells": [
    {
      "cell_type": "markdown",
      "metadata": {
        "id": "view-in-github",
        "colab_type": "text"
      },
      "source": [
        "<a href=\"https://colab.research.google.com/github/JaimeJmz/assignments/blob/main/PythonExercises_1.ipynb\" target=\"_parent\"><img src=\"https://colab.research.google.com/assets/colab-badge.svg\" alt=\"Open In Colab\"/></a>"
      ]
    },
    {
      "cell_type": "markdown",
      "source": [
        "**Jaime Jimenez Suarez**\n",
        "\n",
        "**ID=2077627**\n",
        "\n",
        "**thursday,N3,IA**"
      ],
      "metadata": {
        "id": "8TllG0_yQt5X"
      }
    },
    {
      "cell_type": "markdown",
      "source": [
        "**text  analysis tool**:Create a python program that reads a text file and performs various analyses on its content.the program should:count the number of words,sentences, and paragraphs. calculate the avarage word length. identify the most common words and their frequencies.\n"
      ],
      "metadata": {
        "id": "SQVcBLwkcsrY"
      }
    },
    {
      "cell_type": "code",
      "source": [
        "from typing_extensions import Counter\n",
        "from posixpath import split\n",
        "sourceDir=\"/content/ia.txt\"\n",
        "with open(sourceDir,\"r\") as f:\n",
        "  text= f.read()\n",
        "  words= text.split()\n",
        "  print(len(words))\n",
        "  setences= text.split(\".\")\n",
        "  print(len(setences))\n",
        "  paragraphs=text.split(\"\\n\")\n",
        "  print(len(paragraphs))\n",
        "  average=sum(len(words) for words in words) / len(words)\n",
        "  print(average)\n",
        "  frequency=Counter(words)\n",
        "  print( words,frequency)\n",
        "\n",
        "\n",
        "\n",
        "\n",
        "\n"
      ],
      "metadata": {
        "id": "Igb8NEzGs5kL",
        "colab": {
          "base_uri": "https://localhost:8080/"
        },
        "outputId": "e0f1883b-f039-4bd1-8975-93c44df4f9a9"
      },
      "execution_count": null,
      "outputs": [
        {
          "output_type": "stream",
          "name": "stdout",
          "text": [
            "8\n",
            "1\n",
            "8\n",
            "5.25\n",
            "['Bad', 'bunny', 'Caballo', 'Perro', 'Gato', 'Ratón', 'Queso', 'Amarillo'] Counter({'Bad': 1, 'bunny': 1, 'Caballo': 1, 'Perro': 1, 'Gato': 1, 'Ratón': 1, 'Queso': 1, 'Amarillo': 1})\n"
          ]
        }
      ]
    },
    {
      "cell_type": "markdown",
      "source": [
        "**Hangman game**: create a python program that allows a user to play the game of hangman. The program should randomly select a word form a predefined list, and the player must guess letters one at a time until they guess the word correctly or run out of attampts"
      ],
      "metadata": {
        "id": "DpoH83MnPVHq"
      }
    },
    {
      "cell_type": "code",
      "source": [
        "import random\n",
        "\n",
        "sourceDir=\"/content/ia.txt\"\n",
        "with open(sourceDir,\"r\")  as f:\n",
        "  words= f.readlines()\n",
        "  word=random.choice(words).strip()\n",
        "  errors=6\n",
        "  intents=[]\n",
        "  run= True\n",
        "  while run:\n",
        "\n",
        "    for letter in word:\n",
        "      if letter.lower() in intents:\n",
        "        print(letter,end =\"\")\n",
        "      else:\n",
        "        print(\"_\", end =\"\")\n",
        "\n",
        "    print(\"\\n\")\n",
        "    intent= input(f\"Errors left{errors}. next try:\")\n",
        "    intents.append(intent.lower())\n",
        "\n",
        "    if intent.lower() not in word.lower():\n",
        "      errors -= 1\n",
        "      if errors == 0:\n",
        "        print(f\"game over.The word was{word}\")\n",
        "        break\n",
        "\n",
        "      run=False\n",
        "      for letter in word:\n",
        "        if letter.lower() not in intents:\n",
        "          run= True\n",
        "        if run == False:\n",
        "            print(f\"correct word It was {word}\")\n",
        "            break\n",
        "\n"
      ],
      "metadata": {
        "id": "vYJPgv0MgI3Q",
        "colab": {
          "base_uri": "https://localhost:8080/"
        },
        "outputId": "8aadcd23-8f3a-48e8-f38c-29d49cfefe8d"
      },
      "execution_count": null,
      "outputs": [
        {
          "output_type": "stream",
          "name": "stdout",
          "text": [
            "________\n",
            "\n",
            "Errors left6. next try:b\n",
            "________\n",
            "\n",
            "Errors left5. next try:p\n",
            "________\n",
            "\n",
            "Errors left4. next try:g\n",
            "________\n",
            "\n",
            "Errors left3. next try:c\n",
            "________\n",
            "\n",
            "Errors left2. next try:a\n",
            "A_a_____\n",
            "\n",
            "Errors left2. next try:m\n",
            "Ama_____\n",
            "\n",
            "Errors left2. next try:r\n",
            "Amar____\n",
            "\n",
            "Errors left2. next try:i\n",
            "Amari___\n",
            "\n",
            "Errors left2. next try:l\n",
            "Amarill_\n",
            "\n",
            "Errors left2. next try:o\n",
            "Amarillo\n",
            "\n",
            "Errors left2. next try:s\n",
            "correct word It was Amarillo\n"
          ]
        }
      ]
    },
    {
      "cell_type": "code",
      "source": [],
      "metadata": {
        "id": "mLGUl6HVWpQ7"
      },
      "execution_count": null,
      "outputs": []
    },
    {
      "cell_type": "markdown",
      "source": [
        "**Number Guessing Game**: create a program that generates a random number between 1 and 100, and then asks the user to guess the number. the program should provide hints to user if the guessed number us greater or lees than the target number, and keep asking for a new guess until the user guesses correctly."
      ],
      "metadata": {
        "id": "csU5__qDEkYK"
      }
    },
    {
      "cell_type": "code",
      "source": [
        "from pickle import STOP\n",
        "from ast import Break\n",
        "import random\n",
        "attempts= 0\n",
        "print(\"Number guessing game\")\n",
        "name=input(\"what is your name?\")\n",
        "x= random.randint(1,100)\n",
        "print(\"hi  \" + name + \", welcome to my first game...\")\n",
        "while attempts < 10:\n",
        "  attempts= attempts +1\n",
        "  number= input(\"choose a number from 1 to 100..\")\n",
        "  number= int(number)\n",
        "  if number> x:\n",
        "    print(\"your number is lower\")\n",
        "  if number < x:\n",
        "    print( \"your number is higher\")\n",
        "  if number == x:\n",
        "    print(\"this is the correct answer\")\n",
        "    break\n",
        "  if attempts == 10:\n",
        "    print(\"you no longer have attempts\")\n"
      ],
      "metadata": {
        "id": "sgNdeN5XFgPX",
        "colab": {
          "base_uri": "https://localhost:8080/"
        },
        "outputId": "7939f4cb-f1ca-43df-f47a-b82d22943a2c"
      },
      "execution_count": 14,
      "outputs": [
        {
          "output_type": "stream",
          "name": "stdout",
          "text": [
            "Number guessing game\n",
            "what is your name?jaime\n",
            "hi  jaime, welcome to my first game...\n",
            "choose a number from 1 to 100..50\n",
            "your number is higher\n",
            "choose a number from 1 to 100..60\n",
            "your number is higher\n",
            "choose a number from 1 to 100..70\n",
            "your number is higher\n",
            "choose a number from 1 to 100..80\n",
            "your number is lower\n",
            "choose a number from 1 to 100..75\n",
            "your number is lower\n",
            "choose a number from 1 to 100..73\n",
            "your number is higher\n",
            "choose a number from 1 to 100..74\n",
            "this is the correct answer\n"
          ]
        }
      ]
    }
  ]
}